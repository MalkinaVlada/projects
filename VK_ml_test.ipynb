{
 "cells": [
  {
   "cell_type": "code",
   "execution_count": 1,
   "id": "2888d251",
   "metadata": {},
   "outputs": [],
   "source": [
    "import pandas as pd"
   ]
  },
  {
   "cell_type": "code",
   "execution_count": 2,
   "id": "91429561",
   "metadata": {},
   "outputs": [],
   "source": [
    "data_train = pd.read_csv('/Users/vladamalkina/Downloads/train 2.csv')\n",
    "data_songs = pd.read_csv('/Users/vladamalkina/Downloads/songs.csv')\n",
    "data_songs_extra = pd.read_csv('/Users/vladamalkina/Downloads/song_extra_info.csv')\n",
    "data_members = pd.read_csv('/Users/vladamalkina/Downloads/members.csv')"
   ]
  },
  {
   "cell_type": "code",
   "execution_count": 3,
   "id": "8661a505",
   "metadata": {},
   "outputs": [],
   "source": [
    "data_test = pd.read_csv('/Users/vladamalkina/Downloads/test 2.csv')\n",
    "data_sample_submission = pd.read_csv('/Users/vladamalkina/Downloads/sample_submission.csv')"
   ]
  },
  {
   "cell_type": "markdown",
   "id": "87c67c98",
   "metadata": {},
   "source": [
    "# train dataset"
   ]
  },
  {
   "cell_type": "code",
   "execution_count": 4,
   "id": "c585cb98",
   "metadata": {},
   "outputs": [
    {
     "data": {
      "text/html": [
       "<div>\n",
       "<style scoped>\n",
       "    .dataframe tbody tr th:only-of-type {\n",
       "        vertical-align: middle;\n",
       "    }\n",
       "\n",
       "    .dataframe tbody tr th {\n",
       "        vertical-align: top;\n",
       "    }\n",
       "\n",
       "    .dataframe thead th {\n",
       "        text-align: right;\n",
       "    }\n",
       "</style>\n",
       "<table border=\"1\" class=\"dataframe\">\n",
       "  <thead>\n",
       "    <tr style=\"text-align: right;\">\n",
       "      <th></th>\n",
       "      <th>msno</th>\n",
       "      <th>song_id</th>\n",
       "      <th>source_system_tab</th>\n",
       "      <th>source_screen_name</th>\n",
       "      <th>source_type</th>\n",
       "      <th>target</th>\n",
       "    </tr>\n",
       "  </thead>\n",
       "  <tbody>\n",
       "    <tr>\n",
       "      <th>0</th>\n",
       "      <td>FGtllVqz18RPiwJj/edr2gV78zirAiY/9SmYvia+kCg=</td>\n",
       "      <td>BBzumQNXUHKdEBOB7mAJuzok+IJA1c2Ryg/yzTF6tik=</td>\n",
       "      <td>explore</td>\n",
       "      <td>Explore</td>\n",
       "      <td>online-playlist</td>\n",
       "      <td>1</td>\n",
       "    </tr>\n",
       "    <tr>\n",
       "      <th>1</th>\n",
       "      <td>Xumu+NIjS6QYVxDS4/t3SawvJ7viT9hPKXmf0RtLNx8=</td>\n",
       "      <td>bhp/MpSNoqoxOIB+/l8WPqu6jldth4DIpCm3ayXnJqM=</td>\n",
       "      <td>my library</td>\n",
       "      <td>Local playlist more</td>\n",
       "      <td>local-playlist</td>\n",
       "      <td>1</td>\n",
       "    </tr>\n",
       "    <tr>\n",
       "      <th>2</th>\n",
       "      <td>Xumu+NIjS6QYVxDS4/t3SawvJ7viT9hPKXmf0RtLNx8=</td>\n",
       "      <td>JNWfrrC7zNN7BdMpsISKa4Mw+xVJYNnxXh3/Epw7QgY=</td>\n",
       "      <td>my library</td>\n",
       "      <td>Local playlist more</td>\n",
       "      <td>local-playlist</td>\n",
       "      <td>1</td>\n",
       "    </tr>\n",
       "    <tr>\n",
       "      <th>3</th>\n",
       "      <td>Xumu+NIjS6QYVxDS4/t3SawvJ7viT9hPKXmf0RtLNx8=</td>\n",
       "      <td>2A87tzfnJTSWqD7gIZHisolhe4DMdzkbd6LzO1KHjNs=</td>\n",
       "      <td>my library</td>\n",
       "      <td>Local playlist more</td>\n",
       "      <td>local-playlist</td>\n",
       "      <td>1</td>\n",
       "    </tr>\n",
       "    <tr>\n",
       "      <th>4</th>\n",
       "      <td>FGtllVqz18RPiwJj/edr2gV78zirAiY/9SmYvia+kCg=</td>\n",
       "      <td>3qm6XTZ6MOCU11x8FIVbAGH5l5uMkT3/ZalWG1oo2Gc=</td>\n",
       "      <td>explore</td>\n",
       "      <td>Explore</td>\n",
       "      <td>online-playlist</td>\n",
       "      <td>1</td>\n",
       "    </tr>\n",
       "  </tbody>\n",
       "</table>\n",
       "</div>"
      ],
      "text/plain": [
       "                                           msno  \\\n",
       "0  FGtllVqz18RPiwJj/edr2gV78zirAiY/9SmYvia+kCg=   \n",
       "1  Xumu+NIjS6QYVxDS4/t3SawvJ7viT9hPKXmf0RtLNx8=   \n",
       "2  Xumu+NIjS6QYVxDS4/t3SawvJ7viT9hPKXmf0RtLNx8=   \n",
       "3  Xumu+NIjS6QYVxDS4/t3SawvJ7viT9hPKXmf0RtLNx8=   \n",
       "4  FGtllVqz18RPiwJj/edr2gV78zirAiY/9SmYvia+kCg=   \n",
       "\n",
       "                                        song_id source_system_tab  \\\n",
       "0  BBzumQNXUHKdEBOB7mAJuzok+IJA1c2Ryg/yzTF6tik=           explore   \n",
       "1  bhp/MpSNoqoxOIB+/l8WPqu6jldth4DIpCm3ayXnJqM=        my library   \n",
       "2  JNWfrrC7zNN7BdMpsISKa4Mw+xVJYNnxXh3/Epw7QgY=        my library   \n",
       "3  2A87tzfnJTSWqD7gIZHisolhe4DMdzkbd6LzO1KHjNs=        my library   \n",
       "4  3qm6XTZ6MOCU11x8FIVbAGH5l5uMkT3/ZalWG1oo2Gc=           explore   \n",
       "\n",
       "    source_screen_name      source_type  target  \n",
       "0              Explore  online-playlist       1  \n",
       "1  Local playlist more   local-playlist       1  \n",
       "2  Local playlist more   local-playlist       1  \n",
       "3  Local playlist more   local-playlist       1  \n",
       "4              Explore  online-playlist       1  "
      ]
     },
     "metadata": {},
     "output_type": "display_data"
    }
   ],
   "source": [
    "display(data_train.head())"
   ]
  },
  {
   "cell_type": "code",
   "execution_count": 5,
   "id": "f5be1e82",
   "metadata": {},
   "outputs": [
    {
     "name": "stdout",
     "output_type": "stream",
     "text": [
      "<class 'pandas.core.frame.DataFrame'>\n",
      "RangeIndex: 7377418 entries, 0 to 7377417\n",
      "Data columns (total 6 columns):\n",
      " #   Column              Dtype \n",
      "---  ------              ----- \n",
      " 0   msno                object\n",
      " 1   song_id             object\n",
      " 2   source_system_tab   object\n",
      " 3   source_screen_name  object\n",
      " 4   source_type         object\n",
      " 5   target              int64 \n",
      "dtypes: int64(1), object(5)\n",
      "memory usage: 337.7+ MB\n"
     ]
    }
   ],
   "source": [
    "data_train.info()"
   ]
  },
  {
   "cell_type": "markdown",
   "id": "1d5efc72",
   "metadata": {},
   "source": [
    "### Проверим наличие дубликатов:"
   ]
  },
  {
   "cell_type": "code",
   "execution_count": 6,
   "id": "ee69128b",
   "metadata": {},
   "outputs": [
    {
     "data": {
      "text/plain": [
       "0"
      ]
     },
     "execution_count": 6,
     "metadata": {},
     "output_type": "execute_result"
    }
   ],
   "source": [
    "data_train.duplicated().sum()"
   ]
  },
  {
   "cell_type": "markdown",
   "id": "04bfbc0d",
   "metadata": {},
   "source": [
    "### Посчитаем пропуски в столбцах:"
   ]
  },
  {
   "cell_type": "code",
   "execution_count": 7,
   "id": "7b9aa03e",
   "metadata": {},
   "outputs": [
    {
     "data": {
      "text/plain": [
       "msno                       0\n",
       "song_id                    0\n",
       "source_system_tab      24849\n",
       "source_screen_name    414804\n",
       "source_type            21539\n",
       "target                     0\n",
       "dtype: int64"
      ]
     },
     "execution_count": 7,
     "metadata": {},
     "output_type": "execute_result"
    }
   ],
   "source": [
    "data_train.isna().sum()"
   ]
  },
  {
   "cell_type": "code",
   "execution_count": 8,
   "id": "822450a4",
   "metadata": {},
   "outputs": [
    {
     "name": "stdout",
     "output_type": "stream",
     "text": [
      "msno - 0.0%\n",
      "song_id - 0.0%\n",
      "source_system_tab - 0.34%\n",
      "source_screen_name - 5.62%\n",
      "source_type - 0.29%\n",
      "target - 0.0%\n"
     ]
    }
   ],
   "source": [
    "import numpy as np\n",
    "for col in data_train.columns:\n",
    "    pct_missing = round(data_train[col].isna().sum()/data_train.shape[0]*100, 2)\n",
    "    print('{} - {}%'.format(col, pct_missing))"
   ]
  },
  {
   "cell_type": "markdown",
   "id": "c03bfeb2",
   "metadata": {},
   "source": [
    "### Незначительное количество пропусков присутствует в столбцах source_system_tab, source_screen_name, source_type."
   ]
  },
  {
   "cell_type": "markdown",
   "id": "b4326a8a",
   "metadata": {},
   "source": [
    "### удалим записи с пропусками"
   ]
  },
  {
   "cell_type": "code",
   "execution_count": 9,
   "id": "b2dc1b87",
   "metadata": {},
   "outputs": [],
   "source": [
    "data_train = data_train.dropna()"
   ]
  },
  {
   "cell_type": "code",
   "execution_count": 10,
   "id": "204590c0",
   "metadata": {},
   "outputs": [
    {
     "data": {
      "text/plain": [
       "(6959297, 6)"
      ]
     },
     "execution_count": 10,
     "metadata": {},
     "output_type": "execute_result"
    }
   ],
   "source": [
    "data_train.shape"
   ]
  },
  {
   "cell_type": "markdown",
   "id": "d86614ee",
   "metadata": {},
   "source": [
    "### Функция для вывода уникальных значений столбцов:"
   ]
  },
  {
   "cell_type": "code",
   "execution_count": 11,
   "id": "75ac0f34",
   "metadata": {},
   "outputs": [
    {
     "name": "stdout",
     "output_type": "stream",
     "text": [
      "msno ['FGtllVqz18RPiwJj/edr2gV78zirAiY/9SmYvia+kCg='\n",
      " 'Xumu+NIjS6QYVxDS4/t3SawvJ7viT9hPKXmf0RtLNx8='\n",
      " 'uHqAtShXTRXju5GE8ri3ITsVFepPf8jUoCF7ffNOuqE=' ...\n",
      " '1Y/5t7/lVxT6scW1U4FtrafFnHe5HLr0793S4cNrXyM='\n",
      " 'pSXUjXoK/eKqB0much1HvcBsOUTxPiCaC8WYUT/9fxg='\n",
      " 'oHMpaCQRI6fzq/jamfTvv5tFfukkE9/VERi7/CfQ9M0=']\n",
      "\n",
      "song_id ['BBzumQNXUHKdEBOB7mAJuzok+IJA1c2Ryg/yzTF6tik='\n",
      " 'bhp/MpSNoqoxOIB+/l8WPqu6jldth4DIpCm3ayXnJqM='\n",
      " 'JNWfrrC7zNN7BdMpsISKa4Mw+xVJYNnxXh3/Epw7QgY=' ...\n",
      " 'SZZUaT+kWlIDkjgJqK5VJls94gArFT1BgkrFLjvJVIc='\n",
      " '7+DNPp8HiFDXlQmNejGezfdJ15eXGms1PmRCwtc+zVQ='\n",
      " 'WJzitiYM7ddyalCdx8/Gkkt1UFSp2t/0ZY74CrMGvWg=']\n",
      "\n",
      "source_system_tab ['explore' 'my library' 'search' 'discover' 'radio' 'listen with'\n",
      " 'notification' 'settings']\n",
      "\n",
      "source_screen_name ['Explore' 'Local playlist more' 'My library' 'Online playlist more'\n",
      " 'Album more' 'Discover Feature' 'Unknown' 'Discover Chart' 'Radio'\n",
      " 'Artist more' 'Search' 'Others profile more' 'Search Trends'\n",
      " 'Discover Genre' 'My library_Search' 'Search Home' 'Discover New'\n",
      " 'Self profile more' 'Concert' 'Payment']\n",
      "\n",
      "source_type ['online-playlist' 'local-playlist' 'local-library' 'album'\n",
      " 'song-based-playlist' 'radio' 'top-hits-for-artist' 'song' 'listen-with'\n",
      " 'artist' 'topic-article-playlist' 'my-daily-playlist']\n",
      "\n",
      "target [1 0]\n",
      "\n"
     ]
    }
   ],
   "source": [
    "def uniq(data):\n",
    "    for column in data.columns:\n",
    "        print(column, data[column].unique())\n",
    "        print()\n",
    "uniq(data_train)"
   ]
  },
  {
   "cell_type": "markdown",
   "id": "42c2b917",
   "metadata": {},
   "source": [
    "# songs dataset"
   ]
  },
  {
   "cell_type": "code",
   "execution_count": 12,
   "id": "050bf616",
   "metadata": {},
   "outputs": [
    {
     "data": {
      "text/html": [
       "<div>\n",
       "<style scoped>\n",
       "    .dataframe tbody tr th:only-of-type {\n",
       "        vertical-align: middle;\n",
       "    }\n",
       "\n",
       "    .dataframe tbody tr th {\n",
       "        vertical-align: top;\n",
       "    }\n",
       "\n",
       "    .dataframe thead th {\n",
       "        text-align: right;\n",
       "    }\n",
       "</style>\n",
       "<table border=\"1\" class=\"dataframe\">\n",
       "  <thead>\n",
       "    <tr style=\"text-align: right;\">\n",
       "      <th></th>\n",
       "      <th>song_id</th>\n",
       "      <th>song_length</th>\n",
       "      <th>genre_ids</th>\n",
       "      <th>artist_name</th>\n",
       "      <th>composer</th>\n",
       "      <th>lyricist</th>\n",
       "      <th>language</th>\n",
       "    </tr>\n",
       "  </thead>\n",
       "  <tbody>\n",
       "    <tr>\n",
       "      <th>0</th>\n",
       "      <td>CXoTN1eb7AI+DntdU1vbcwGRV4SCIDxZu+YD8JP8r4E=</td>\n",
       "      <td>247640</td>\n",
       "      <td>465</td>\n",
       "      <td>張信哲 (Jeff Chang)</td>\n",
       "      <td>董貞</td>\n",
       "      <td>何啟弘</td>\n",
       "      <td>3.0</td>\n",
       "    </tr>\n",
       "    <tr>\n",
       "      <th>1</th>\n",
       "      <td>o0kFgae9QtnYgRkVPqLJwa05zIhRlUjfF7O1tDw0ZDU=</td>\n",
       "      <td>197328</td>\n",
       "      <td>444</td>\n",
       "      <td>BLACKPINK</td>\n",
       "      <td>TEDDY|  FUTURE BOUNCE|  Bekuh BOOM</td>\n",
       "      <td>TEDDY</td>\n",
       "      <td>31.0</td>\n",
       "    </tr>\n",
       "    <tr>\n",
       "      <th>2</th>\n",
       "      <td>DwVvVurfpuz+XPuFvucclVQEyPqcpUkHR0ne1RQzPs0=</td>\n",
       "      <td>231781</td>\n",
       "      <td>465</td>\n",
       "      <td>SUPER JUNIOR</td>\n",
       "      <td>NaN</td>\n",
       "      <td>NaN</td>\n",
       "      <td>31.0</td>\n",
       "    </tr>\n",
       "    <tr>\n",
       "      <th>3</th>\n",
       "      <td>dKMBWoZyScdxSkihKG+Vf47nc18N9q4m58+b4e7dSSE=</td>\n",
       "      <td>273554</td>\n",
       "      <td>465</td>\n",
       "      <td>S.H.E</td>\n",
       "      <td>湯小康</td>\n",
       "      <td>徐世珍</td>\n",
       "      <td>3.0</td>\n",
       "    </tr>\n",
       "    <tr>\n",
       "      <th>4</th>\n",
       "      <td>W3bqWd3T+VeHFzHAUfARgW9AvVRaF4N5Yzm4Mr6Eo/o=</td>\n",
       "      <td>140329</td>\n",
       "      <td>726</td>\n",
       "      <td>貴族精選</td>\n",
       "      <td>Traditional</td>\n",
       "      <td>Traditional</td>\n",
       "      <td>52.0</td>\n",
       "    </tr>\n",
       "  </tbody>\n",
       "</table>\n",
       "</div>"
      ],
      "text/plain": [
       "                                        song_id  song_length genre_ids  \\\n",
       "0  CXoTN1eb7AI+DntdU1vbcwGRV4SCIDxZu+YD8JP8r4E=       247640       465   \n",
       "1  o0kFgae9QtnYgRkVPqLJwa05zIhRlUjfF7O1tDw0ZDU=       197328       444   \n",
       "2  DwVvVurfpuz+XPuFvucclVQEyPqcpUkHR0ne1RQzPs0=       231781       465   \n",
       "3  dKMBWoZyScdxSkihKG+Vf47nc18N9q4m58+b4e7dSSE=       273554       465   \n",
       "4  W3bqWd3T+VeHFzHAUfARgW9AvVRaF4N5Yzm4Mr6Eo/o=       140329       726   \n",
       "\n",
       "        artist_name                            composer     lyricist  language  \n",
       "0  張信哲 (Jeff Chang)                                  董貞          何啟弘       3.0  \n",
       "1         BLACKPINK  TEDDY|  FUTURE BOUNCE|  Bekuh BOOM        TEDDY      31.0  \n",
       "2      SUPER JUNIOR                                 NaN          NaN      31.0  \n",
       "3             S.H.E                                 湯小康          徐世珍       3.0  \n",
       "4              貴族精選                         Traditional  Traditional      52.0  "
      ]
     },
     "metadata": {},
     "output_type": "display_data"
    }
   ],
   "source": [
    "display(data_songs.head())"
   ]
  },
  {
   "cell_type": "code",
   "execution_count": 13,
   "id": "8f76f1cb",
   "metadata": {},
   "outputs": [
    {
     "name": "stdout",
     "output_type": "stream",
     "text": [
      "<class 'pandas.core.frame.DataFrame'>\n",
      "RangeIndex: 2296320 entries, 0 to 2296319\n",
      "Data columns (total 7 columns):\n",
      " #   Column       Dtype  \n",
      "---  ------       -----  \n",
      " 0   song_id      object \n",
      " 1   song_length  int64  \n",
      " 2   genre_ids    object \n",
      " 3   artist_name  object \n",
      " 4   composer     object \n",
      " 5   lyricist     object \n",
      " 6   language     float64\n",
      "dtypes: float64(1), int64(1), object(5)\n",
      "memory usage: 122.6+ MB\n"
     ]
    }
   ],
   "source": [
    "data_songs.info()"
   ]
  },
  {
   "cell_type": "markdown",
   "id": "d5930eb6",
   "metadata": {},
   "source": [
    "### Проверим наличие дубликатов:"
   ]
  },
  {
   "cell_type": "code",
   "execution_count": 14,
   "id": "d78d0bf0",
   "metadata": {},
   "outputs": [
    {
     "data": {
      "text/plain": [
       "0"
      ]
     },
     "execution_count": 14,
     "metadata": {},
     "output_type": "execute_result"
    }
   ],
   "source": [
    "data_songs.duplicated().sum()"
   ]
  },
  {
   "cell_type": "markdown",
   "id": "17e2dda9",
   "metadata": {},
   "source": [
    "### Приведем данные к нужному типу:"
   ]
  },
  {
   "cell_type": "code",
   "execution_count": 15,
   "id": "53bb2592",
   "metadata": {},
   "outputs": [],
   "source": [
    "data_songs['language'] = data_songs['language'].astype(str)"
   ]
  },
  {
   "cell_type": "code",
   "execution_count": 16,
   "id": "51c20f10",
   "metadata": {},
   "outputs": [
    {
     "name": "stdout",
     "output_type": "stream",
     "text": [
      "<class 'pandas.core.frame.DataFrame'>\n",
      "RangeIndex: 2296320 entries, 0 to 2296319\n",
      "Data columns (total 7 columns):\n",
      " #   Column       Dtype \n",
      "---  ------       ----- \n",
      " 0   song_id      object\n",
      " 1   song_length  int64 \n",
      " 2   genre_ids    object\n",
      " 3   artist_name  object\n",
      " 4   composer     object\n",
      " 5   lyricist     object\n",
      " 6   language     object\n",
      "dtypes: int64(1), object(6)\n",
      "memory usage: 122.6+ MB\n"
     ]
    }
   ],
   "source": [
    "data_songs.info()"
   ]
  },
  {
   "cell_type": "markdown",
   "id": "98a8e8e5",
   "metadata": {},
   "source": [
    "### Посчитаем пропуски в столбцах:"
   ]
  },
  {
   "cell_type": "code",
   "execution_count": 17,
   "id": "59ca9662",
   "metadata": {},
   "outputs": [
    {
     "data": {
      "text/plain": [
       "song_id              0\n",
       "song_length          0\n",
       "genre_ids        94116\n",
       "artist_name          0\n",
       "composer       1071354\n",
       "lyricist       1945268\n",
       "language             0\n",
       "dtype: int64"
      ]
     },
     "execution_count": 17,
     "metadata": {},
     "output_type": "execute_result"
    }
   ],
   "source": [
    "data_songs.isna().sum()"
   ]
  },
  {
   "cell_type": "code",
   "execution_count": 18,
   "id": "be3af7a9",
   "metadata": {},
   "outputs": [
    {
     "name": "stdout",
     "output_type": "stream",
     "text": [
      "song_id - 0.0%\n",
      "song_length - 0.0%\n",
      "genre_ids - 4.1%\n",
      "artist_name - 0.0%\n",
      "composer - 46.66%\n",
      "lyricist - 84.71%\n",
      "language - 0.0%\n"
     ]
    }
   ],
   "source": [
    "for col in data_songs.columns:\n",
    "    pct_missing = round(data_songs[col].isna().sum()/data_songs.shape[0]*100, 2)\n",
    "    print('{} - {}%'.format(col, pct_missing))"
   ]
  },
  {
   "cell_type": "markdown",
   "id": "ab113381",
   "metadata": {},
   "source": [
    "### обнаружено большое количество пропусков в столбцах composer и lyricist, также небольшое количество пропусков присутствует в столбце genre_ids"
   ]
  },
  {
   "cell_type": "markdown",
   "id": "343d2f3c",
   "metadata": {},
   "source": [
    "### удалим пропуски в столбце genre_ids и language"
   ]
  },
  {
   "cell_type": "code",
   "execution_count": 19,
   "id": "d8bb32ec",
   "metadata": {},
   "outputs": [],
   "source": [
    "data_songs = data_songs[data_songs['genre_ids'].notna()]\n",
    "data_songs = data_songs[data_songs['language'].notna()]"
   ]
  },
  {
   "cell_type": "code",
   "execution_count": 20,
   "id": "75fb3e68",
   "metadata": {},
   "outputs": [
    {
     "data": {
      "text/plain": [
       "323979"
      ]
     },
     "execution_count": 20,
     "metadata": {},
     "output_type": "execute_result"
    }
   ],
   "source": [
    "len(data_songs[\"composer\"].unique())"
   ]
  },
  {
   "cell_type": "code",
   "execution_count": 21,
   "id": "11310277",
   "metadata": {},
   "outputs": [
    {
     "data": {
      "text/plain": [
       "108439"
      ]
     },
     "execution_count": 21,
     "metadata": {},
     "output_type": "execute_result"
    }
   ],
   "source": [
    "len(data_songs['lyricist'].unique())"
   ]
  },
  {
   "cell_type": "markdown",
   "id": "48a38cce",
   "metadata": {},
   "source": [
    "### Построим ящик с усами для численных признаков"
   ]
  },
  {
   "cell_type": "markdown",
   "id": "90e8676a",
   "metadata": {},
   "source": [
    "### songs_length in ms переведем songs_length в минуты"
   ]
  },
  {
   "cell_type": "code",
   "execution_count": 22,
   "id": "cf742415",
   "metadata": {},
   "outputs": [],
   "source": [
    "data_songs['song_length'] = data_songs['song_length']//60000"
   ]
  },
  {
   "cell_type": "code",
   "execution_count": 23,
   "id": "dd20542c",
   "metadata": {},
   "outputs": [
    {
     "data": {
      "text/plain": [
       "count    2.202204e+06\n",
       "mean     3.622487e+00\n",
       "std      2.703243e+00\n",
       "min      0.000000e+00\n",
       "25%      3.000000e+00\n",
       "50%      3.000000e+00\n",
       "75%      4.000000e+00\n",
       "max      2.020000e+02\n",
       "Name: song_length, dtype: float64"
      ]
     },
     "execution_count": 23,
     "metadata": {},
     "output_type": "execute_result"
    }
   ],
   "source": [
    "data_songs['song_length'].describe()"
   ]
  },
  {
   "cell_type": "code",
   "execution_count": 24,
   "id": "73702054",
   "metadata": {},
   "outputs": [
    {
     "data": {
      "image/png": "[encoded data removed]",
      "text/plain": [
       "<Figure size 640x480 with 1 Axes>"
      ]
     },
     "metadata": {},
     "output_type": "display_data"
    }
   ],
   "source": [
    "import seaborn as sns\n",
    "import matplotlib.pyplot as plt\n",
    "sns.boxplot(x=data_songs['song_length'], fliersize = 10, whis = 20)\n",
    "plt.show()"
   ]
  },
  {
   "cell_type": "markdown",
   "id": "97811133",
   "metadata": {},
   "source": [
    "### Обнаружены выбросы и аномальные значения в столбце song_length, удалим их"
   ]
  },
  {
   "cell_type": "code",
   "execution_count": 25,
   "id": "6bed06b2",
   "metadata": {},
   "outputs": [],
   "source": [
    "Q1 = data_songs['song_length'].quantile(0.25)\n",
    "Q3 = data_songs['song_length'].quantile(0.75)\n",
    "IQR = Q3 - Q1\n",
    "data_songs = data_songs.loc[(data_songs['song_length'] >= Q1-1.5*IQR ) & (data_songs['song_length'] <= Q3+1.5*IQR)]"
   ]
  },
  {
   "cell_type": "code",
   "execution_count": 26,
   "id": "e9a4a78a",
   "metadata": {},
   "outputs": [
    {
     "data": {
      "text/plain": [
       "count    1.841392e+06\n",
       "mean     3.294196e+00\n",
       "std      9.028800e-01\n",
       "min      2.000000e+00\n",
       "25%      3.000000e+00\n",
       "50%      3.000000e+00\n",
       "75%      4.000000e+00\n",
       "max      5.000000e+00\n",
       "Name: song_length, dtype: float64"
      ]
     },
     "execution_count": 26,
     "metadata": {},
     "output_type": "execute_result"
    }
   ],
   "source": [
    "data_songs['song_length'].describe()"
   ]
  },
  {
   "cell_type": "code",
   "execution_count": 27,
   "id": "5c91648f",
   "metadata": {},
   "outputs": [
    {
     "data": {
      "image/png": "[encoded data removed]",
      "text/plain": [
       "<Figure size 640x480 with 1 Axes>"
      ]
     },
     "metadata": {},
     "output_type": "display_data"
    }
   ],
   "source": [
    "sns.boxplot(x=data_songs['song_length'], fliersize = 10, whis = 20)\n",
    "plt.show()"
   ]
  },
  {
   "cell_type": "code",
   "execution_count": 28,
   "id": "4b2f0bed",
   "metadata": {},
   "outputs": [
    {
     "data": {
      "text/plain": [
       "song_id              0\n",
       "song_length          0\n",
       "genre_ids            0\n",
       "artist_name          0\n",
       "composer        842692\n",
       "lyricist       1533756\n",
       "language             0\n",
       "dtype: int64"
      ]
     },
     "execution_count": 28,
     "metadata": {},
     "output_type": "execute_result"
    }
   ],
   "source": [
    "data_songs.isna().sum()"
   ]
  },
  {
   "cell_type": "markdown",
   "id": "526cd2c5",
   "metadata": {},
   "source": [
    "### выведем уникальные значения столбцов"
   ]
  },
  {
   "cell_type": "code",
   "execution_count": 29,
   "id": "c4838c27",
   "metadata": {},
   "outputs": [
    {
     "name": "stdout",
     "output_type": "stream",
     "text": [
      "song_id ['CXoTN1eb7AI+DntdU1vbcwGRV4SCIDxZu+YD8JP8r4E='\n",
      " 'o0kFgae9QtnYgRkVPqLJwa05zIhRlUjfF7O1tDw0ZDU='\n",
      " 'DwVvVurfpuz+XPuFvucclVQEyPqcpUkHR0ne1RQzPs0=' ...\n",
      " 'nXi1lrSJe+gLoTTNky7If0mNPrIyCQCLwagwR6XopGU='\n",
      " 'UO8Y2MR2sjOn2q/Tp8/lzZTGKmLEvwZ20oWanG4XnYc='\n",
      " 'V/9qPSUOGT0FeIGBhDIZRRz5Y5yyjdXC2Z/+bJExo5s=']\n",
      "\n",
      "song_length [4 3 2 5]\n",
      "\n",
      "genre_ids ['465' '444' '726' ... '1259|2107' '1138|2022' '1000|2154|751']\n",
      "\n",
      "artist_name ['張信哲 (Jeff Chang)' 'BLACKPINK' 'SUPER JUNIOR' ... '鈴木理恵子/若林顕'\n",
      " 'Avaleya and The GlitterHawks' 'Renato pezzella| Renato Pezzella']\n",
      "\n",
      "composer ['董貞' 'TEDDY|  FUTURE BOUNCE|  Bekuh BOOM' nan ...\n",
      " 'I. Lindo| M. Elliott| B Hammond'\n",
      " 'Adam Lyons| Nathan Lyons| Timothy Voeten| Patrick Huerto| Thomas Davies| James Haigh'\n",
      " 'Rodney Clawson| Vicky McGehee| David Lee Murphy']\n",
      "\n",
      "lyricist ['何啟弘' 'TEDDY' nan ... 'Dan Wilson| C. Wilson| S. Kalanich' 'Stepz|Branco'\n",
      " 'Rodney Clawson| Vicky McGehee| David Lee Murphy']\n",
      "\n",
      "language ['3.0' '31.0' '52.0' '17.0' '10.0' '-1.0' '24.0' '59.0' '45.0' '38.0'\n",
      " 'nan']\n",
      "\n"
     ]
    }
   ],
   "source": [
    "uniq(data_songs)"
   ]
  },
  {
   "cell_type": "markdown",
   "id": "a2fff6c3",
   "metadata": {},
   "source": [
    "# songs_extra dataset"
   ]
  },
  {
   "cell_type": "code",
   "execution_count": 30,
   "id": "409311d0",
   "metadata": {},
   "outputs": [
    {
     "data": {
      "text/html": [
       "<div>\n",
       "<style scoped>\n",
       "    .dataframe tbody tr th:only-of-type {\n",
       "        vertical-align: middle;\n",
       "    }\n",
       "\n",
       "    .dataframe tbody tr th {\n",
       "        vertical-align: top;\n",
       "    }\n",
       "\n",
       "    .dataframe thead th {\n",
       "        text-align: right;\n",
       "    }\n",
       "</style>\n",
       "<table border=\"1\" class=\"dataframe\">\n",
       "  <thead>\n",
       "    <tr style=\"text-align: right;\">\n",
       "      <th></th>\n",
       "      <th>song_id</th>\n",
       "      <th>name</th>\n",
       "      <th>isrc</th>\n",
       "    </tr>\n",
       "  </thead>\n",
       "  <tbody>\n",
       "    <tr>\n",
       "      <th>0</th>\n",
       "      <td>LP7pLJoJFBvyuUwvu+oLzjT+bI+UeBPURCecJsX1jjs=</td>\n",
       "      <td>我們</td>\n",
       "      <td>TWUM71200043</td>\n",
       "    </tr>\n",
       "    <tr>\n",
       "      <th>1</th>\n",
       "      <td>ClazTFnk6r0Bnuie44bocdNMM3rdlrq0bCGAsGUWcHE=</td>\n",
       "      <td>Let Me Love You</td>\n",
       "      <td>QMZSY1600015</td>\n",
       "    </tr>\n",
       "    <tr>\n",
       "      <th>2</th>\n",
       "      <td>u2ja/bZE3zhCGxvbbOB3zOoUjx27u40cf5g09UXMoKQ=</td>\n",
       "      <td>原諒我</td>\n",
       "      <td>TWA530887303</td>\n",
       "    </tr>\n",
       "    <tr>\n",
       "      <th>3</th>\n",
       "      <td>92Fqsy0+p6+RHe2EoLKjHahORHR1Kq1TBJoClW9v+Ts=</td>\n",
       "      <td>Classic</td>\n",
       "      <td>USSM11301446</td>\n",
       "    </tr>\n",
       "    <tr>\n",
       "      <th>4</th>\n",
       "      <td>0QFmz/+rJy1Q56C1DuYqT9hKKqi5TUqx0sN0IwvoHrw=</td>\n",
       "      <td>愛投羅網</td>\n",
       "      <td>TWA471306001</td>\n",
       "    </tr>\n",
       "  </tbody>\n",
       "</table>\n",
       "</div>"
      ],
      "text/plain": [
       "                                        song_id             name          isrc\n",
       "0  LP7pLJoJFBvyuUwvu+oLzjT+bI+UeBPURCecJsX1jjs=               我們  TWUM71200043\n",
       "1  ClazTFnk6r0Bnuie44bocdNMM3rdlrq0bCGAsGUWcHE=  Let Me Love You  QMZSY1600015\n",
       "2  u2ja/bZE3zhCGxvbbOB3zOoUjx27u40cf5g09UXMoKQ=              原諒我  TWA530887303\n",
       "3  92Fqsy0+p6+RHe2EoLKjHahORHR1Kq1TBJoClW9v+Ts=          Classic  USSM11301446\n",
       "4  0QFmz/+rJy1Q56C1DuYqT9hKKqi5TUqx0sN0IwvoHrw=             愛投羅網  TWA471306001"
      ]
     },
     "metadata": {},
     "output_type": "display_data"
    }
   ],
   "source": [
    "display(data_songs_extra.head())"
   ]
  },
  {
   "cell_type": "code",
   "execution_count": 31,
   "id": "eea2e364",
   "metadata": {},
   "outputs": [
    {
     "name": "stdout",
     "output_type": "stream",
     "text": [
      "<class 'pandas.core.frame.DataFrame'>\n",
      "RangeIndex: 2295971 entries, 0 to 2295970\n",
      "Data columns (total 3 columns):\n",
      " #   Column   Dtype \n",
      "---  ------   ----- \n",
      " 0   song_id  object\n",
      " 1   name     object\n",
      " 2   isrc     object\n",
      "dtypes: object(3)\n",
      "memory usage: 52.6+ MB\n"
     ]
    }
   ],
   "source": [
    "data_songs_extra.info()"
   ]
  },
  {
   "cell_type": "markdown",
   "id": "05e82eb8",
   "metadata": {},
   "source": [
    "### Проверим наличие дубликатов:"
   ]
  },
  {
   "cell_type": "code",
   "execution_count": 32,
   "id": "578e7b7c",
   "metadata": {},
   "outputs": [
    {
     "data": {
      "text/plain": [
       "0"
      ]
     },
     "execution_count": 32,
     "metadata": {},
     "output_type": "execute_result"
    }
   ],
   "source": [
    "data_songs_extra.duplicated().sum()"
   ]
  },
  {
   "cell_type": "markdown",
   "id": "4c03617e",
   "metadata": {},
   "source": [
    "### Посчитаем пропуски в столбцах:"
   ]
  },
  {
   "cell_type": "code",
   "execution_count": 33,
   "id": "02c36d37",
   "metadata": {},
   "outputs": [
    {
     "data": {
      "text/plain": [
       "song_id         0\n",
       "name            2\n",
       "isrc       136548\n",
       "dtype: int64"
      ]
     },
     "execution_count": 33,
     "metadata": {},
     "output_type": "execute_result"
    }
   ],
   "source": [
    "data_songs_extra.isna().sum()"
   ]
  },
  {
   "cell_type": "markdown",
   "id": "4e28c27e",
   "metadata": {},
   "source": [
    "### удалим пропуски в столбце name"
   ]
  },
  {
   "cell_type": "code",
   "execution_count": 34,
   "id": "47ba5428",
   "metadata": {},
   "outputs": [],
   "source": [
    "data_songs_extra = data_songs_extra[data_songs_extra['name'].notna()]"
   ]
  },
  {
   "cell_type": "code",
   "execution_count": 35,
   "id": "de768a10",
   "metadata": {},
   "outputs": [
    {
     "data": {
      "text/plain": [
       "song_id         0\n",
       "name            0\n",
       "isrc       136547\n",
       "dtype: int64"
      ]
     },
     "execution_count": 35,
     "metadata": {},
     "output_type": "execute_result"
    }
   ],
   "source": [
    "data_songs_extra.isna().sum()"
   ]
  },
  {
   "cell_type": "code",
   "execution_count": 36,
   "id": "cedd9c3f",
   "metadata": {},
   "outputs": [
    {
     "name": "stdout",
     "output_type": "stream",
     "text": [
      "song_id - 0.0%\n",
      "name - 0.0%\n",
      "isrc - 5.95%\n"
     ]
    }
   ],
   "source": [
    "for col in data_songs_extra.columns:\n",
    "    pct_missing = round(data_songs_extra[col].isna().sum()/data_songs_extra.shape[0]*100, 2)\n",
    "    print('{} - {}%'.format(col, pct_missing))"
   ]
  },
  {
   "cell_type": "markdown",
   "id": "64adbe57",
   "metadata": {},
   "source": [
    "### Незначительное количество пропусков присутствует в столбце isrc."
   ]
  },
  {
   "cell_type": "markdown",
   "id": "cf886e6b",
   "metadata": {},
   "source": [
    "### удалим записи с пропусками"
   ]
  },
  {
   "cell_type": "code",
   "execution_count": 37,
   "id": "3fa07050",
   "metadata": {},
   "outputs": [],
   "source": [
    "data_songs_extra = data_songs_extra.dropna()"
   ]
  },
  {
   "cell_type": "code",
   "execution_count": 38,
   "id": "975ae502",
   "metadata": {},
   "outputs": [
    {
     "data": {
      "text/plain": [
       "(2159422, 3)"
      ]
     },
     "execution_count": 38,
     "metadata": {},
     "output_type": "execute_result"
    }
   ],
   "source": [
    "data_songs_extra.shape"
   ]
  },
  {
   "cell_type": "markdown",
   "id": "ba25b20e",
   "metadata": {},
   "source": [
    "# data_members dataset"
   ]
  },
  {
   "cell_type": "code",
   "execution_count": 39,
   "id": "917f1e7d",
   "metadata": {},
   "outputs": [
    {
     "data": {
      "text/html": [
       "<div>\n",
       "<style scoped>\n",
       "    .dataframe tbody tr th:only-of-type {\n",
       "        vertical-align: middle;\n",
       "    }\n",
       "\n",
       "    .dataframe tbody tr th {\n",
       "        vertical-align: top;\n",
       "    }\n",
       "\n",
       "    .dataframe thead th {\n",
       "        text-align: right;\n",
       "    }\n",
       "</style>\n",
       "<table border=\"1\" class=\"dataframe\">\n",
       "  <thead>\n",
       "    <tr style=\"text-align: right;\">\n",
       "      <th></th>\n",
       "      <th>msno</th>\n",
       "      <th>city</th>\n",
       "      <th>bd</th>\n",
       "      <th>gender</th>\n",
       "      <th>registered_via</th>\n",
       "      <th>registration_init_time</th>\n",
       "      <th>expiration_date</th>\n",
       "    </tr>\n",
       "  </thead>\n",
       "  <tbody>\n",
       "    <tr>\n",
       "      <th>0</th>\n",
       "      <td>XQxgAYj3klVKjR3oxPPXYYFp4soD4TuBghkhMTD4oTw=</td>\n",
       "      <td>1</td>\n",
       "      <td>0</td>\n",
       "      <td>NaN</td>\n",
       "      <td>7</td>\n",
       "      <td>20110820</td>\n",
       "      <td>20170920</td>\n",
       "    </tr>\n",
       "    <tr>\n",
       "      <th>1</th>\n",
       "      <td>UizsfmJb9mV54qE9hCYyU07Va97c0lCRLEQX3ae+ztM=</td>\n",
       "      <td>1</td>\n",
       "      <td>0</td>\n",
       "      <td>NaN</td>\n",
       "      <td>7</td>\n",
       "      <td>20150628</td>\n",
       "      <td>20170622</td>\n",
       "    </tr>\n",
       "    <tr>\n",
       "      <th>2</th>\n",
       "      <td>D8nEhsIOBSoE6VthTaqDX8U6lqjJ7dLdr72mOyLya2A=</td>\n",
       "      <td>1</td>\n",
       "      <td>0</td>\n",
       "      <td>NaN</td>\n",
       "      <td>4</td>\n",
       "      <td>20160411</td>\n",
       "      <td>20170712</td>\n",
       "    </tr>\n",
       "    <tr>\n",
       "      <th>3</th>\n",
       "      <td>mCuD+tZ1hERA/o5GPqk38e041J8ZsBaLcu7nGoIIvhI=</td>\n",
       "      <td>1</td>\n",
       "      <td>0</td>\n",
       "      <td>NaN</td>\n",
       "      <td>9</td>\n",
       "      <td>20150906</td>\n",
       "      <td>20150907</td>\n",
       "    </tr>\n",
       "    <tr>\n",
       "      <th>4</th>\n",
       "      <td>q4HRBfVSssAFS9iRfxWrohxuk9kCYMKjHOEagUMV6rQ=</td>\n",
       "      <td>1</td>\n",
       "      <td>0</td>\n",
       "      <td>NaN</td>\n",
       "      <td>4</td>\n",
       "      <td>20170126</td>\n",
       "      <td>20170613</td>\n",
       "    </tr>\n",
       "  </tbody>\n",
       "</table>\n",
       "</div>"
      ],
      "text/plain": [
       "                                           msno  city  bd gender  \\\n",
       "0  XQxgAYj3klVKjR3oxPPXYYFp4soD4TuBghkhMTD4oTw=     1   0    NaN   \n",
       "1  UizsfmJb9mV54qE9hCYyU07Va97c0lCRLEQX3ae+ztM=     1   0    NaN   \n",
       "2  D8nEhsIOBSoE6VthTaqDX8U6lqjJ7dLdr72mOyLya2A=     1   0    NaN   \n",
       "3  mCuD+tZ1hERA/o5GPqk38e041J8ZsBaLcu7nGoIIvhI=     1   0    NaN   \n",
       "4  q4HRBfVSssAFS9iRfxWrohxuk9kCYMKjHOEagUMV6rQ=     1   0    NaN   \n",
       "\n",
       "   registered_via  registration_init_time  expiration_date  \n",
       "0               7                20110820         20170920  \n",
       "1               7                20150628         20170622  \n",
       "2               4                20160411         20170712  \n",
       "3               9                20150906         20150907  \n",
       "4               4                20170126         20170613  "
      ]
     },
     "metadata": {},
     "output_type": "display_data"
    }
   ],
   "source": [
    "display(data_members.head())"
   ]
  },
  {
   "cell_type": "code",
   "execution_count": 40,
   "id": "f89e95d0",
   "metadata": {},
   "outputs": [
    {
     "name": "stdout",
     "output_type": "stream",
     "text": [
      "<class 'pandas.core.frame.DataFrame'>\n",
      "RangeIndex: 34403 entries, 0 to 34402\n",
      "Data columns (total 7 columns):\n",
      " #   Column                  Non-Null Count  Dtype \n",
      "---  ------                  --------------  ----- \n",
      " 0   msno                    34403 non-null  object\n",
      " 1   city                    34403 non-null  int64 \n",
      " 2   bd                      34403 non-null  int64 \n",
      " 3   gender                  14501 non-null  object\n",
      " 4   registered_via          34403 non-null  int64 \n",
      " 5   registration_init_time  34403 non-null  int64 \n",
      " 6   expiration_date         34403 non-null  int64 \n",
      "dtypes: int64(5), object(2)\n",
      "memory usage: 1.8+ MB\n"
     ]
    }
   ],
   "source": [
    "data_members.info()"
   ]
  },
  {
   "cell_type": "markdown",
   "id": "4597d6bf",
   "metadata": {},
   "source": [
    "### Приведем данные к нужному типу:"
   ]
  },
  {
   "cell_type": "code",
   "execution_count": 41,
   "id": "9a5865aa",
   "metadata": {},
   "outputs": [],
   "source": [
    "data_members['registered_via'] = data_members['registered_via'].astype(str)"
   ]
  },
  {
   "cell_type": "code",
   "execution_count": 42,
   "id": "69fe9742",
   "metadata": {},
   "outputs": [],
   "source": [
    "data_members['city'] = data_members['city'].astype(str)"
   ]
  },
  {
   "cell_type": "markdown",
   "id": "a97de99c",
   "metadata": {},
   "source": [
    "### registration_init_time, expiration_date to datetime"
   ]
  },
  {
   "cell_type": "code",
   "execution_count": 43,
   "id": "a9881af7",
   "metadata": {},
   "outputs": [],
   "source": [
    "data_members['registration_init_time'] = pd.to_datetime(data_members['registration_init_time'],format='%Y%m%d', errors = 'coerce')\n",
    "data_members['expiration_date'] = pd.to_datetime(data_members['expiration_date'],format='%Y%m%d', errors = 'coerce')"
   ]
  },
  {
   "cell_type": "code",
   "execution_count": 44,
   "id": "2da7254f",
   "metadata": {},
   "outputs": [
    {
     "name": "stdout",
     "output_type": "stream",
     "text": [
      "<class 'pandas.core.frame.DataFrame'>\n",
      "RangeIndex: 34403 entries, 0 to 34402\n",
      "Data columns (total 7 columns):\n",
      " #   Column                  Non-Null Count  Dtype         \n",
      "---  ------                  --------------  -----         \n",
      " 0   msno                    34403 non-null  object        \n",
      " 1   city                    34403 non-null  object        \n",
      " 2   bd                      34403 non-null  int64         \n",
      " 3   gender                  14501 non-null  object        \n",
      " 4   registered_via          34403 non-null  object        \n",
      " 5   registration_init_time  34403 non-null  datetime64[ns]\n",
      " 6   expiration_date         34403 non-null  datetime64[ns]\n",
      "dtypes: datetime64[ns](2), int64(1), object(4)\n",
      "memory usage: 1.8+ MB\n"
     ]
    }
   ],
   "source": [
    "data_members.info()"
   ]
  },
  {
   "cell_type": "markdown",
   "id": "b779f4d6",
   "metadata": {},
   "source": [
    "### Проверим наличие дубликатов:"
   ]
  },
  {
   "cell_type": "code",
   "execution_count": 45,
   "id": "52b21744",
   "metadata": {},
   "outputs": [
    {
     "data": {
      "text/plain": [
       "0"
      ]
     },
     "execution_count": 45,
     "metadata": {},
     "output_type": "execute_result"
    }
   ],
   "source": [
    "data_members.duplicated().sum()"
   ]
  },
  {
   "cell_type": "markdown",
   "id": "a6e4c40f",
   "metadata": {},
   "source": [
    "### Посчитаем пропуски в столбцах:"
   ]
  },
  {
   "cell_type": "code",
   "execution_count": 46,
   "id": "6faf43c7",
   "metadata": {},
   "outputs": [
    {
     "data": {
      "text/plain": [
       "msno                          0\n",
       "city                          0\n",
       "bd                            0\n",
       "gender                    19902\n",
       "registered_via                0\n",
       "registration_init_time        0\n",
       "expiration_date               0\n",
       "dtype: int64"
      ]
     },
     "execution_count": 46,
     "metadata": {},
     "output_type": "execute_result"
    }
   ],
   "source": [
    "data_members.isna().sum()"
   ]
  },
  {
   "cell_type": "code",
   "execution_count": 47,
   "id": "8838cdbb",
   "metadata": {},
   "outputs": [
    {
     "name": "stdout",
     "output_type": "stream",
     "text": [
      "msno - 0.0%\n",
      "city - 0.0%\n",
      "bd - 0.0%\n",
      "gender - 57.85%\n",
      "registered_via - 0.0%\n",
      "registration_init_time - 0.0%\n",
      "expiration_date - 0.0%\n"
     ]
    }
   ],
   "source": [
    "for col in data_members.columns:\n",
    "    pct_missing = round(data_members[col].isna().sum()/data_members.shape[0]*100, 2)\n",
    "    print('{} - {}%'.format(col, pct_missing))"
   ]
  },
  {
   "cell_type": "code",
   "execution_count": 48,
   "id": "61098baf",
   "metadata": {},
   "outputs": [
    {
     "name": "stdout",
     "output_type": "stream",
     "text": [
      "male      7405\n",
      "female    7096\n",
      "Name: gender, dtype: int64\n"
     ]
    },
    {
     "data": {
      "image/png": "[encoded data removed]",
      "text/plain": [
       "<Figure size 640x480 with 1 Axes>"
      ]
     },
     "metadata": {},
     "output_type": "display_data"
    }
   ],
   "source": [
    "data_members[\"gender\"].value_counts().plot.pie()\n",
    "print(data_members[\"gender\"].value_counts())"
   ]
  },
  {
   "cell_type": "markdown",
   "id": "b329195d",
   "metadata": {},
   "source": [
    "### Построим ящик с усами для численных признаков"
   ]
  },
  {
   "cell_type": "code",
   "execution_count": 49,
   "id": "7713da40",
   "metadata": {},
   "outputs": [
    {
     "data": {
      "text/plain": [
       "count    34403.000000\n",
       "mean        12.280935\n",
       "std         18.170251\n",
       "min        -43.000000\n",
       "25%          0.000000\n",
       "50%          0.000000\n",
       "75%         25.000000\n",
       "max       1051.000000\n",
       "Name: bd, dtype: float64"
      ]
     },
     "execution_count": 49,
     "metadata": {},
     "output_type": "execute_result"
    }
   ],
   "source": [
    "data_members['bd'].describe()"
   ]
  },
  {
   "cell_type": "code",
   "execution_count": 50,
   "id": "51304068",
   "metadata": {},
   "outputs": [
    {
     "data": {
      "image/png": "[encoded data removed]",
      "text/plain": [
       "<Figure size 640x480 with 1 Axes>"
      ]
     },
     "metadata": {},
     "output_type": "display_data"
    }
   ],
   "source": [
    "sns.boxplot(x=data_members['bd'], fliersize = 10, whis = 20)\n",
    "plt.show()"
   ]
  },
  {
   "cell_type": "markdown",
   "id": "dcd93df7",
   "metadata": {},
   "source": [
    "### В столбце bd (age) присутствуют выбросы, удалим выбросы"
   ]
  },
  {
   "cell_type": "code",
   "execution_count": 51,
   "id": "701fb4c7",
   "metadata": {},
   "outputs": [],
   "source": [
    "Q1 = data_members['bd'].quantile(0.25)\n",
    "Q3 = data_members['bd'].quantile(0.75)\n",
    "IQR = Q3 - Q1\n",
    "data_members = data_members.loc[(data_members['bd'] >= Q1-1.5*IQR ) & (data_members['bd'] <= Q3+1.5*IQR)]"
   ]
  },
  {
   "cell_type": "code",
   "execution_count": 52,
   "id": "3a1b27e8",
   "metadata": {},
   "outputs": [
    {
     "data": {
      "text/plain": [
       "count    34311.000000\n",
       "mean        12.027484\n",
       "std         15.241990\n",
       "min          0.000000\n",
       "25%          0.000000\n",
       "50%          0.000000\n",
       "75%         25.000000\n",
       "max         62.000000\n",
       "Name: bd, dtype: float64"
      ]
     },
     "execution_count": 52,
     "metadata": {},
     "output_type": "execute_result"
    }
   ],
   "source": [
    "data_members['bd'].describe()"
   ]
  },
  {
   "cell_type": "code",
   "execution_count": 53,
   "id": "22792c20",
   "metadata": {},
   "outputs": [
    {
     "data": {
      "text/plain": [
       "array([ 0, 43, 28, 33, 20, 30, 29, 26, 25, 21, 22, 16, 23, 37, 18, 19, 51,\n",
       "       24, 17, 45, 36, 57, 27, 34, 32, 15, 48, 50, 54, 47, 35, 46, 31, 14,\n",
       "       41, 59,  2, 40, 38, 55, 39, 49, 44, 52, 42, 56, 58, 53,  3, 62, 61,\n",
       "       60, 13, 12, 11,  7,  5, 10])"
      ]
     },
     "execution_count": 53,
     "metadata": {},
     "output_type": "execute_result"
    }
   ],
   "source": [
    "data_members['bd'].unique()"
   ]
  },
  {
   "cell_type": "markdown",
   "id": "6bbd9dbc",
   "metadata": {},
   "source": [
    "### удалим участников с возрастом < 11"
   ]
  },
  {
   "cell_type": "code",
   "execution_count": 54,
   "id": "91731588",
   "metadata": {},
   "outputs": [],
   "source": [
    "data_members = data_members[data_members['bd'] > 11]"
   ]
  },
  {
   "cell_type": "code",
   "execution_count": 55,
   "id": "a659f9c1",
   "metadata": {},
   "outputs": [
    {
     "data": {
      "text/plain": [
       "msno                        0\n",
       "city                        0\n",
       "bd                          0\n",
       "gender                    417\n",
       "registered_via              0\n",
       "registration_init_time      0\n",
       "expiration_date             0\n",
       "dtype: int64"
      ]
     },
     "execution_count": 55,
     "metadata": {},
     "output_type": "execute_result"
    }
   ],
   "source": [
    "data_members.isna().sum()"
   ]
  },
  {
   "cell_type": "markdown",
   "id": "03c9a129",
   "metadata": {},
   "source": [
    "# объединение датасетов"
   ]
  },
  {
   "cell_type": "markdown",
   "id": "e7fd0c2f",
   "metadata": {},
   "source": [
    "### 1) объединим датасеты data_train и data_members"
   ]
  },
  {
   "cell_type": "code",
   "execution_count": 56,
   "id": "8d425e34",
   "metadata": {},
   "outputs": [],
   "source": [
    "train_members = data_train.merge(data_members, on = 'msno', how='left')"
   ]
  },
  {
   "cell_type": "markdown",
   "id": "75090e11",
   "metadata": {},
   "source": [
    "### 2) объединим датасеты train_members и data_songs"
   ]
  },
  {
   "cell_type": "code",
   "execution_count": 57,
   "id": "92dac1f0",
   "metadata": {},
   "outputs": [],
   "source": [
    "train_members_song = train_members.merge(data_songs, on = 'song_id', how='left')"
   ]
  },
  {
   "cell_type": "markdown",
   "id": "95339b5a",
   "metadata": {},
   "source": [
    "### 3) объединим датасеты train_members_song и data_songs_extra"
   ]
  },
  {
   "cell_type": "code",
   "execution_count": 58,
   "id": "df9375c6",
   "metadata": {},
   "outputs": [],
   "source": [
    "final_data = train_members_song.merge(data_songs_extra, on = 'song_id', how='left')"
   ]
  },
  {
   "cell_type": "markdown",
   "id": "066ec9bf",
   "metadata": {},
   "source": [
    "### Таким образом, мы объединили 4 датасета. Основным датасетом является train, остальные датасеты предоставляют нам дополнительную информацию. При объединении использовали left merge, чтобы сохранить все строчки из нашего основного датасета train."
   ]
  },
  {
   "cell_type": "code",
   "execution_count": 59,
   "id": "922e3a89",
   "metadata": {},
   "outputs": [
    {
     "name": "stdout",
     "output_type": "stream",
     "text": [
      "<class 'pandas.core.frame.DataFrame'>\n",
      "Int64Index: 6959297 entries, 0 to 6959296\n",
      "Data columns (total 20 columns):\n",
      " #   Column                  Dtype         \n",
      "---  ------                  -----         \n",
      " 0   msno                    object        \n",
      " 1   song_id                 object        \n",
      " 2   source_system_tab       object        \n",
      " 3   source_screen_name      object        \n",
      " 4   source_type             object        \n",
      " 5   target                  int64         \n",
      " 6   city                    object        \n",
      " 7   bd                      float64       \n",
      " 8   gender                  object        \n",
      " 9   registered_via          object        \n",
      " 10  registration_init_time  datetime64[ns]\n",
      " 11  expiration_date         datetime64[ns]\n",
      " 12  song_length             float64       \n",
      " 13  genre_ids               object        \n",
      " 14  artist_name             object        \n",
      " 15  composer                object        \n",
      " 16  lyricist                object        \n",
      " 17  language                object        \n",
      " 18  name                    object        \n",
      " 19  isrc                    object        \n",
      "dtypes: datetime64[ns](2), float64(2), int64(1), object(15)\n",
      "memory usage: 1.1+ GB\n"
     ]
    }
   ],
   "source": [
    "final_data.info()"
   ]
  },
  {
   "cell_type": "code",
   "execution_count": 60,
   "id": "fc19e7d1",
   "metadata": {},
   "outputs": [
    {
     "data": {
      "text/plain": [
       "msno                            0\n",
       "song_id                         0\n",
       "source_system_tab               0\n",
       "source_screen_name              0\n",
       "source_type                     0\n",
       "target                          0\n",
       "city                      2778491\n",
       "bd                        2778491\n",
       "gender                    2918388\n",
       "registered_via            2778491\n",
       "registration_init_time    2778491\n",
       "expiration_date           2778491\n",
       "song_length                320203\n",
       "genre_ids                  320203\n",
       "artist_name                320203\n",
       "composer                  1784453\n",
       "lyricist                  3128999\n",
       "language                   320203\n",
       "name                       531198\n",
       "isrc                       531198\n",
       "dtype: int64"
      ]
     },
     "execution_count": 60,
     "metadata": {},
     "output_type": "execute_result"
    }
   ],
   "source": [
    "final_data.isna().sum()"
   ]
  },
  {
   "cell_type": "code",
   "execution_count": 61,
   "id": "59380459",
   "metadata": {},
   "outputs": [
    {
     "name": "stdout",
     "output_type": "stream",
     "text": [
      "msno - 0.0%\n",
      "song_id - 0.0%\n",
      "source_system_tab - 0.0%\n",
      "source_screen_name - 0.0%\n",
      "source_type - 0.0%\n",
      "target - 0.0%\n",
      "city - 39.92%\n",
      "bd - 39.92%\n",
      "gender - 41.94%\n",
      "registered_via - 39.92%\n",
      "registration_init_time - 39.92%\n",
      "expiration_date - 39.92%\n",
      "song_length - 4.6%\n",
      "genre_ids - 4.6%\n",
      "artist_name - 4.6%\n",
      "composer - 25.64%\n",
      "lyricist - 44.96%\n",
      "language - 4.6%\n",
      "name - 7.63%\n",
      "isrc - 7.63%\n"
     ]
    }
   ],
   "source": [
    "for col in final_data.columns:\n",
    "    pct_missing = round(final_data[col].isna().sum()/final_data.shape[0]*100, 2)\n",
    "    print('{} - {}%'.format(col, pct_missing))"
   ]
  },
  {
   "cell_type": "code",
   "execution_count": 62,
   "id": "369398e1",
   "metadata": {},
   "outputs": [
    {
     "data": {
      "text/plain": [
       "(6959297, 20)"
      ]
     },
     "execution_count": 62,
     "metadata": {},
     "output_type": "execute_result"
    }
   ],
   "source": [
    "final_data.shape"
   ]
  },
  {
   "cell_type": "markdown",
   "id": "f28affae",
   "metadata": {},
   "source": [
    "### заполним пропущенные значения"
   ]
  },
  {
   "cell_type": "code",
   "execution_count": 63,
   "id": "9ad43e7e",
   "metadata": {},
   "outputs": [],
   "source": [
    "category = final_data.select_dtypes(include='O').columns\n",
    "numeric = final_data.select_dtypes(include=(np.number)).columns\n",
    "for col in category:\n",
    "    final_data[col] = final_data[col].fillna('UnKnown')\n",
    "for col in numeric:\n",
    "    final_data[col] = final_data[col].interpolate(method='linear')"
   ]
  },
  {
   "cell_type": "code",
   "execution_count": 64,
   "id": "3e616b51",
   "metadata": {},
   "outputs": [
    {
     "data": {
      "text/plain": [
       "msno                            0\n",
       "song_id                         0\n",
       "source_system_tab               0\n",
       "source_screen_name              0\n",
       "source_type                     0\n",
       "target                          0\n",
       "city                            0\n",
       "bd                              1\n",
       "gender                          0\n",
       "registered_via                  0\n",
       "registration_init_time    2778491\n",
       "expiration_date           2778491\n",
       "song_length                     0\n",
       "genre_ids                       0\n",
       "artist_name                     0\n",
       "composer                        0\n",
       "lyricist                        0\n",
       "language                        0\n",
       "name                            0\n",
       "isrc                            0\n",
       "dtype: int64"
      ]
     },
     "execution_count": 64,
     "metadata": {},
     "output_type": "execute_result"
    }
   ],
   "source": [
    "final_data.isna().sum()"
   ]
  },
  {
   "cell_type": "markdown",
   "id": "35aec392",
   "metadata": {},
   "source": [
    "### удалим записи с пропусками"
   ]
  },
  {
   "cell_type": "code",
   "execution_count": 65,
   "id": "8b3313a5",
   "metadata": {},
   "outputs": [],
   "source": [
    "final_data_new = final_data"
   ]
  },
  {
   "cell_type": "code",
   "execution_count": 66,
   "id": "5ee8bc07",
   "metadata": {},
   "outputs": [],
   "source": [
    "final_data_new = final_data_new.dropna()"
   ]
  },
  {
   "cell_type": "code",
   "execution_count": 67,
   "id": "f6df753f",
   "metadata": {},
   "outputs": [
    {
     "data": {
      "text/plain": [
       "0.6007511965648255"
      ]
     },
     "execution_count": 67,
     "metadata": {},
     "output_type": "execute_result"
    }
   ],
   "source": [
    "final_data_new.shape[0]/final_data.shape[0]"
   ]
  },
  {
   "cell_type": "code",
   "execution_count": 68,
   "id": "a2c394fd",
   "metadata": {},
   "outputs": [
    {
     "data": {
      "text/plain": [
       "(4180806, 20)"
      ]
     },
     "execution_count": 68,
     "metadata": {},
     "output_type": "execute_result"
    }
   ],
   "source": [
    "final_data_new.shape"
   ]
  },
  {
   "cell_type": "code",
   "execution_count": 69,
   "id": "bc13ffb3",
   "metadata": {},
   "outputs": [
    {
     "name": "stdout",
     "output_type": "stream",
     "text": [
      "<class 'pandas.core.frame.DataFrame'>\n",
      "Int64Index: 4180806 entries, 1 to 6959292\n",
      "Data columns (total 20 columns):\n",
      " #   Column                  Dtype         \n",
      "---  ------                  -----         \n",
      " 0   msno                    object        \n",
      " 1   song_id                 object        \n",
      " 2   source_system_tab       object        \n",
      " 3   source_screen_name      object        \n",
      " 4   source_type             object        \n",
      " 5   target                  int64         \n",
      " 6   city                    object        \n",
      " 7   bd                      float64       \n",
      " 8   gender                  object        \n",
      " 9   registered_via          object        \n",
      " 10  registration_init_time  datetime64[ns]\n",
      " 11  expiration_date         datetime64[ns]\n",
      " 12  song_length             float64       \n",
      " 13  genre_ids               object        \n",
      " 14  artist_name             object        \n",
      " 15  composer                object        \n",
      " 16  lyricist                object        \n",
      " 17  language                object        \n",
      " 18  name                    object        \n",
      " 19  isrc                    object        \n",
      "dtypes: datetime64[ns](2), float64(2), int64(1), object(15)\n",
      "memory usage: 669.8+ MB\n"
     ]
    }
   ],
   "source": [
    "final_data_new.info()"
   ]
  },
  {
   "cell_type": "markdown",
   "id": "950be54e",
   "metadata": {},
   "source": [
    "### Преобразуем категориальные признаки и datetime к category "
   ]
  },
  {
   "cell_type": "code",
   "execution_count": 70,
   "id": "70adb8dd",
   "metadata": {},
   "outputs": [],
   "source": [
    "final_data_new_matr = final_data_new"
   ]
  },
  {
   "cell_type": "code",
   "execution_count": 71,
   "id": "5352e6f0",
   "metadata": {},
   "outputs": [
    {
     "name": "stderr",
     "output_type": "stream",
     "text": [
      "/var/folders/dx/w90wg9sd0kbb_vk86lg641180000gn/T/ipykernel_1260/2495331536.py:1: SettingWithCopyWarning: \n",
      "A value is trying to be set on a copy of a slice from a DataFrame.\n",
      "Try using .loc[row_indexer,col_indexer] = value instead\n",
      "\n",
      "See the caveats in the documentation: https://pandas.pydata.org/pandas-docs/stable/user_guide/indexing.html#returning-a-view-versus-a-copy\n",
      "  final_data_new_matr['registration_init_time'] = final_data_new['registration_init_time'].astype('category')\n",
      "/var/folders/dx/w90wg9sd0kbb_vk86lg641180000gn/T/ipykernel_1260/2495331536.py:2: SettingWithCopyWarning: \n",
      "A value is trying to be set on a copy of a slice from a DataFrame.\n",
      "Try using .loc[row_indexer,col_indexer] = value instead\n",
      "\n",
      "See the caveats in the documentation: https://pandas.pydata.org/pandas-docs/stable/user_guide/indexing.html#returning-a-view-versus-a-copy\n",
      "  final_data_new_matr['expiration_date'] = final_data_new['expiration_date'].astype('category')\n"
     ]
    }
   ],
   "source": [
    "final_data_new_matr['registration_init_time'] = final_data_new['registration_init_time'].astype('category')\n",
    "final_data_new_matr['expiration_date'] = final_data_new['expiration_date'].astype('category') "
   ]
  },
  {
   "cell_type": "markdown",
   "id": "d4c59fd6",
   "metadata": {},
   "source": [
    "### Преобразуем численные признаки "
   ]
  },
  {
   "cell_type": "code",
   "execution_count": 72,
   "id": "678005bd",
   "metadata": {},
   "outputs": [
    {
     "name": "stderr",
     "output_type": "stream",
     "text": [
      "/var/folders/dx/w90wg9sd0kbb_vk86lg641180000gn/T/ipykernel_1260/1964642844.py:2: SettingWithCopyWarning: \n",
      "A value is trying to be set on a copy of a slice from a DataFrame.\n",
      "Try using .loc[row_indexer,col_indexer] = value instead\n",
      "\n",
      "See the caveats in the documentation: https://pandas.pydata.org/pandas-docs/stable/user_guide/indexing.html#returning-a-view-versus-a-copy\n",
      "  final_data_new_matr[col] = final_data_new_matr[col].astype('category')\n",
      "/var/folders/dx/w90wg9sd0kbb_vk86lg641180000gn/T/ipykernel_1260/1964642844.py:2: SettingWithCopyWarning: \n",
      "A value is trying to be set on a copy of a slice from a DataFrame.\n",
      "Try using .loc[row_indexer,col_indexer] = value instead\n",
      "\n",
      "See the caveats in the documentation: https://pandas.pydata.org/pandas-docs/stable/user_guide/indexing.html#returning-a-view-versus-a-copy\n",
      "  final_data_new_matr[col] = final_data_new_matr[col].astype('category')\n",
      "/var/folders/dx/w90wg9sd0kbb_vk86lg641180000gn/T/ipykernel_1260/1964642844.py:2: SettingWithCopyWarning: \n",
      "A value is trying to be set on a copy of a slice from a DataFrame.\n",
      "Try using .loc[row_indexer,col_indexer] = value instead\n",
      "\n",
      "See the caveats in the documentation: https://pandas.pydata.org/pandas-docs/stable/user_guide/indexing.html#returning-a-view-versus-a-copy\n",
      "  final_data_new_matr[col] = final_data_new_matr[col].astype('category')\n",
      "/var/folders/dx/w90wg9sd0kbb_vk86lg641180000gn/T/ipykernel_1260/1964642844.py:2: SettingWithCopyWarning: \n",
      "A value is trying to be set on a copy of a slice from a DataFrame.\n",
      "Try using .loc[row_indexer,col_indexer] = value instead\n",
      "\n",
      "See the caveats in the documentation: https://pandas.pydata.org/pandas-docs/stable/user_guide/indexing.html#returning-a-view-versus-a-copy\n",
      "  final_data_new_matr[col] = final_data_new_matr[col].astype('category')\n",
      "/var/folders/dx/w90wg9sd0kbb_vk86lg641180000gn/T/ipykernel_1260/1964642844.py:2: SettingWithCopyWarning: \n",
      "A value is trying to be set on a copy of a slice from a DataFrame.\n",
      "Try using .loc[row_indexer,col_indexer] = value instead\n",
      "\n",
      "See the caveats in the documentation: https://pandas.pydata.org/pandas-docs/stable/user_guide/indexing.html#returning-a-view-versus-a-copy\n",
      "  final_data_new_matr[col] = final_data_new_matr[col].astype('category')\n",
      "/var/folders/dx/w90wg9sd0kbb_vk86lg641180000gn/T/ipykernel_1260/1964642844.py:2: SettingWithCopyWarning: \n",
      "A value is trying to be set on a copy of a slice from a DataFrame.\n",
      "Try using .loc[row_indexer,col_indexer] = value instead\n",
      "\n",
      "See the caveats in the documentation: https://pandas.pydata.org/pandas-docs/stable/user_guide/indexing.html#returning-a-view-versus-a-copy\n",
      "  final_data_new_matr[col] = final_data_new_matr[col].astype('category')\n",
      "/var/folders/dx/w90wg9sd0kbb_vk86lg641180000gn/T/ipykernel_1260/1964642844.py:2: SettingWithCopyWarning: \n",
      "A value is trying to be set on a copy of a slice from a DataFrame.\n",
      "Try using .loc[row_indexer,col_indexer] = value instead\n",
      "\n",
      "See the caveats in the documentation: https://pandas.pydata.org/pandas-docs/stable/user_guide/indexing.html#returning-a-view-versus-a-copy\n",
      "  final_data_new_matr[col] = final_data_new_matr[col].astype('category')\n",
      "/var/folders/dx/w90wg9sd0kbb_vk86lg641180000gn/T/ipykernel_1260/1964642844.py:2: SettingWithCopyWarning: \n",
      "A value is trying to be set on a copy of a slice from a DataFrame.\n",
      "Try using .loc[row_indexer,col_indexer] = value instead\n",
      "\n",
      "See the caveats in the documentation: https://pandas.pydata.org/pandas-docs/stable/user_guide/indexing.html#returning-a-view-versus-a-copy\n",
      "  final_data_new_matr[col] = final_data_new_matr[col].astype('category')\n",
      "/var/folders/dx/w90wg9sd0kbb_vk86lg641180000gn/T/ipykernel_1260/1964642844.py:2: SettingWithCopyWarning: \n",
      "A value is trying to be set on a copy of a slice from a DataFrame.\n",
      "Try using .loc[row_indexer,col_indexer] = value instead\n",
      "\n",
      "See the caveats in the documentation: https://pandas.pydata.org/pandas-docs/stable/user_guide/indexing.html#returning-a-view-versus-a-copy\n",
      "  final_data_new_matr[col] = final_data_new_matr[col].astype('category')\n",
      "/var/folders/dx/w90wg9sd0kbb_vk86lg641180000gn/T/ipykernel_1260/1964642844.py:2: SettingWithCopyWarning: \n",
      "A value is trying to be set on a copy of a slice from a DataFrame.\n",
      "Try using .loc[row_indexer,col_indexer] = value instead\n",
      "\n",
      "See the caveats in the documentation: https://pandas.pydata.org/pandas-docs/stable/user_guide/indexing.html#returning-a-view-versus-a-copy\n",
      "  final_data_new_matr[col] = final_data_new_matr[col].astype('category')\n",
      "/var/folders/dx/w90wg9sd0kbb_vk86lg641180000gn/T/ipykernel_1260/1964642844.py:2: SettingWithCopyWarning: \n",
      "A value is trying to be set on a copy of a slice from a DataFrame.\n",
      "Try using .loc[row_indexer,col_indexer] = value instead\n",
      "\n",
      "See the caveats in the documentation: https://pandas.pydata.org/pandas-docs/stable/user_guide/indexing.html#returning-a-view-versus-a-copy\n",
      "  final_data_new_matr[col] = final_data_new_matr[col].astype('category')\n",
      "/var/folders/dx/w90wg9sd0kbb_vk86lg641180000gn/T/ipykernel_1260/1964642844.py:2: SettingWithCopyWarning: \n",
      "A value is trying to be set on a copy of a slice from a DataFrame.\n",
      "Try using .loc[row_indexer,col_indexer] = value instead\n",
      "\n",
      "See the caveats in the documentation: https://pandas.pydata.org/pandas-docs/stable/user_guide/indexing.html#returning-a-view-versus-a-copy\n",
      "  final_data_new_matr[col] = final_data_new_matr[col].astype('category')\n",
      "/var/folders/dx/w90wg9sd0kbb_vk86lg641180000gn/T/ipykernel_1260/1964642844.py:2: SettingWithCopyWarning: \n",
      "A value is trying to be set on a copy of a slice from a DataFrame.\n",
      "Try using .loc[row_indexer,col_indexer] = value instead\n",
      "\n",
      "See the caveats in the documentation: https://pandas.pydata.org/pandas-docs/stable/user_guide/indexing.html#returning-a-view-versus-a-copy\n",
      "  final_data_new_matr[col] = final_data_new_matr[col].astype('category')\n",
      "/var/folders/dx/w90wg9sd0kbb_vk86lg641180000gn/T/ipykernel_1260/1964642844.py:2: SettingWithCopyWarning: \n",
      "A value is trying to be set on a copy of a slice from a DataFrame.\n",
      "Try using .loc[row_indexer,col_indexer] = value instead\n",
      "\n",
      "See the caveats in the documentation: https://pandas.pydata.org/pandas-docs/stable/user_guide/indexing.html#returning-a-view-versus-a-copy\n",
      "  final_data_new_matr[col] = final_data_new_matr[col].astype('category')\n",
      "/var/folders/dx/w90wg9sd0kbb_vk86lg641180000gn/T/ipykernel_1260/1964642844.py:2: SettingWithCopyWarning: \n",
      "A value is trying to be set on a copy of a slice from a DataFrame.\n",
      "Try using .loc[row_indexer,col_indexer] = value instead\n",
      "\n",
      "See the caveats in the documentation: https://pandas.pydata.org/pandas-docs/stable/user_guide/indexing.html#returning-a-view-versus-a-copy\n",
      "  final_data_new_matr[col] = final_data_new_matr[col].astype('category')\n",
      "/var/folders/dx/w90wg9sd0kbb_vk86lg641180000gn/T/ipykernel_1260/1964642844.py:5: SettingWithCopyWarning: \n",
      "A value is trying to be set on a copy of a slice from a DataFrame.\n",
      "Try using .loc[row_indexer,col_indexer] = value instead\n",
      "\n",
      "See the caveats in the documentation: https://pandas.pydata.org/pandas-docs/stable/user_guide/indexing.html#returning-a-view-versus-a-copy\n",
      "  final_data_new_matr[col] = final_data_new_matr[col].cat.codes\n"
     ]
    }
   ],
   "source": [
    "for col in final_data_new_matr.select_dtypes(include=['object']).columns:\n",
    "    final_data_new_matr[col] = final_data_new_matr[col].astype('category')\n",
    "\n",
    "for col in final_data_new_matr.select_dtypes(include=['category']).columns:\n",
    "    final_data_new_matr[col] = final_data_new_matr[col].cat.codes"
   ]
  },
  {
   "cell_type": "markdown",
   "id": "e0a869b5",
   "metadata": {},
   "source": [
    "### проверим преобразования"
   ]
  },
  {
   "cell_type": "code",
   "execution_count": 73,
   "id": "1cab3877",
   "metadata": {},
   "outputs": [
    {
     "name": "stdout",
     "output_type": "stream",
     "text": [
      "<class 'pandas.core.frame.DataFrame'>\n",
      "Int64Index: 4180806 entries, 1 to 6959292\n",
      "Data columns (total 20 columns):\n",
      " #   Column                  Dtype  \n",
      "---  ------                  -----  \n",
      " 0   msno                    int16  \n",
      " 1   song_id                 int32  \n",
      " 2   source_system_tab       int8   \n",
      " 3   source_screen_name      int8   \n",
      " 4   source_type             int8   \n",
      " 5   target                  int64  \n",
      " 6   city                    int8   \n",
      " 7   bd                      float64\n",
      " 8   gender                  int8   \n",
      " 9   registered_via          int8   \n",
      " 10  registration_init_time  int16  \n",
      " 11  expiration_date         int16  \n",
      " 12  song_length             float64\n",
      " 13  genre_ids               int16  \n",
      " 14  artist_name             int16  \n",
      " 15  composer                int32  \n",
      " 16  lyricist                int16  \n",
      " 17  language                int8   \n",
      " 18  name                    int32  \n",
      " 19  isrc                    int32  \n",
      "dtypes: float64(2), int16(6), int32(4), int64(1), int8(7)\n",
      "memory usage: 267.1 MB\n"
     ]
    }
   ],
   "source": [
    "final_data_new_matr.info()"
   ]
  },
  {
   "cell_type": "markdown",
   "id": "f7e9c2e7",
   "metadata": {},
   "source": [
    "### построим матрицу корреляции"
   ]
  },
  {
   "cell_type": "code",
   "execution_count": 74,
   "id": "efcf8d29",
   "metadata": {},
   "outputs": [
    {
     "data": {
      "image/png": "[encoded data removed]",
      "text/plain": [
       "<Figure size 2000x1000 with 2 Axes>"
      ]
     },
     "metadata": {},
     "output_type": "display_data"
    }
   ],
   "source": [
    "plt.figure(figsize=[20,10])\n",
    "sns.heatmap(final_data_new_matr.corr(), annot=True)\n",
    "plt.show()"
   ]
  },
  {
   "cell_type": "markdown",
   "id": "75968556",
   "metadata": {},
   "source": [
    "# обучение моделей"
   ]
  },
  {
   "cell_type": "code",
   "execution_count": 125,
   "id": "d1099b4c",
   "metadata": {},
   "outputs": [],
   "source": [
    "X = final_data_new.drop(columns = ['target'])\n",
    "y = final_data_new['target']"
   ]
  },
  {
   "cell_type": "code",
   "execution_count": 126,
   "id": "2978f7ea",
   "metadata": {},
   "outputs": [],
   "source": [
    "from sklearn.model_selection import train_test_split\n",
    "X_train,X_val,y_train,y_val = train_test_split(X,y,test_size = 0.25,random_state = 12345)"
   ]
  },
  {
   "cell_type": "code",
   "execution_count": 127,
   "id": "818684c0",
   "metadata": {},
   "outputs": [
    {
     "data": {
      "text/plain": [
       "((3135604, 19), (1045202, 19), (3135604,), (1045202,))"
      ]
     },
     "execution_count": 127,
     "metadata": {},
     "output_type": "execute_result"
    }
   ],
   "source": [
    "X_train.shape, X_val.shape, y_train.shape, y_val.shape"
   ]
  },
  {
   "cell_type": "markdown",
   "id": "39d53c68",
   "metadata": {},
   "source": [
    "### Масштабирование численных признаков"
   ]
  },
  {
   "cell_type": "code",
   "execution_count": 128,
   "id": "2676f903",
   "metadata": {},
   "outputs": [],
   "source": [
    "from sklearn.preprocessing import StandardScaler\n",
    "\n",
    "numeric_features = X_train.select_dtypes(exclude=['object']).columns.tolist()\n",
    "\n",
    "X_train_num = X_train[numeric_features]\n",
    "X_val_num = X_val[numeric_features]\n",
    "\n",
    "scaler = StandardScaler()\n",
    "X_train_num_scaled = scaler.fit_transform(X_train_num)\n",
    "X_val_num_scaled = scaler.transform(X_val_num)"
   ]
  },
  {
   "cell_type": "markdown",
   "id": "b1245baa",
   "metadata": {},
   "source": [
    "### Кодирование категориальных признаков"
   ]
  },
  {
   "cell_type": "code",
   "execution_count": 119,
   "id": "74d005d5",
   "metadata": {},
   "outputs": [],
   "source": [
    "from sklearn.preprocessing import OrdinalEncoder\n",
    "\n",
    "encoder = OrdinalEncoder(handle_unknown = 'use_encoded_value', unknown_value = 1) \n",
    "\n",
    "categorical_features = final_data_new.select_dtypes(include=['object']).columns.tolist()\n",
    "\n",
    "X_train_cat = encoder.fit_transform(X_train[categorical_features]).astype(int)\n",
    "X_val_cat = encoder.transform(X_val[categorical_features]).astype(int)"
   ]
  },
  {
   "cell_type": "code",
   "execution_count": 120,
   "id": "7797abd6",
   "metadata": {},
   "outputs": [
    {
     "data": {
      "text/plain": [
       "((3135604, 19), (1045202, 19))"
      ]
     },
     "execution_count": 120,
     "metadata": {},
     "output_type": "execute_result"
    }
   ],
   "source": [
    "X_train = np.hstack((X_train_num_scaled, X_train_cat))\n",
    "X_val = np.hstack((X_val_num_scaled, X_val_cat))\n",
    "X_train.shape, X_val.shape"
   ]
  },
  {
   "cell_type": "markdown",
   "id": "67f557f3",
   "metadata": {},
   "source": [
    "### Logistic regression"
   ]
  },
  {
   "cell_type": "code",
   "execution_count": 81,
   "id": "14a6937c",
   "metadata": {},
   "outputs": [
    {
     "data": {
      "text/html": [
       "<style>#sk-container-id-1 {color: black;}#sk-container-id-1 pre{padding: 0;}#sk-container-id-1 div.sk-toggleable {background-color: white;}#sk-container-id-1 label.sk-toggleable__label {cursor: pointer;display: block;width: 100%;margin-bottom: 0;padding: 0.3em;box-sizing: border-box;text-align: center;}#sk-container-id-1 label.sk-toggleable__label-arrow:before {content: \"▸\";float: left;margin-right: 0.25em;color: #696969;}#sk-container-id-1 label.sk-toggleable__label-arrow:hover:before {color: black;}#sk-container-id-1 div.sk-estimator:hover label.sk-toggleable__label-arrow:before {color: black;}#sk-container-id-1 div.sk-toggleable__content {max-height: 0;max-width: 0;overflow: hidden;text-align: left;background-color: #f0f8ff;}#sk-container-id-1 div.sk-toggleable__content pre {margin: 0.2em;color: black;border-radius: 0.25em;background-color: #f0f8ff;}#sk-container-id-1 input.sk-toggleable__control:checked~div.sk-toggleable__content {max-height: 200px;max-width: 100%;overflow: auto;}#sk-container-id-1 input.sk-toggleable__control:checked~label.sk-toggleable__label-arrow:before {content: \"▾\";}#sk-container-id-1 div.sk-estimator input.sk-toggleable__control:checked~label.sk-toggleable__label {background-color: #d4ebff;}#sk-container-id-1 div.sk-label input.sk-toggleable__control:checked~label.sk-toggleable__label {background-color: #d4ebff;}#sk-container-id-1 input.sk-hidden--visually {border: 0;clip: rect(1px 1px 1px 1px);clip: rect(1px, 1px, 1px, 1px);height: 1px;margin: -1px;overflow: hidden;padding: 0;position: absolute;width: 1px;}#sk-container-id-1 div.sk-estimator {font-family: monospace;background-color: #f0f8ff;border: 1px dotted black;border-radius: 0.25em;box-sizing: border-box;margin-bottom: 0.5em;}#sk-container-id-1 div.sk-estimator:hover {background-color: #d4ebff;}#sk-container-id-1 div.sk-parallel-item::after {content: \"\";width: 100%;border-bottom: 1px solid gray;flex-grow: 1;}#sk-container-id-1 div.sk-label:hover label.sk-toggleable__label {background-color: #d4ebff;}#sk-container-id-1 div.sk-serial::before {content: \"\";position: absolute;border-left: 1px solid gray;box-sizing: border-box;top: 0;bottom: 0;left: 50%;z-index: 0;}#sk-container-id-1 div.sk-serial {display: flex;flex-direction: column;align-items: center;background-color: white;padding-right: 0.2em;padding-left: 0.2em;position: relative;}#sk-container-id-1 div.sk-item {position: relative;z-index: 1;}#sk-container-id-1 div.sk-parallel {display: flex;align-items: stretch;justify-content: center;background-color: white;position: relative;}#sk-container-id-1 div.sk-item::before, #sk-container-id-1 div.sk-parallel-item::before {content: \"\";position: absolute;border-left: 1px solid gray;box-sizing: border-box;top: 0;bottom: 0;left: 50%;z-index: -1;}#sk-container-id-1 div.sk-parallel-item {display: flex;flex-direction: column;z-index: 1;position: relative;background-color: white;}#sk-container-id-1 div.sk-parallel-item:first-child::after {align-self: flex-end;width: 50%;}#sk-container-id-1 div.sk-parallel-item:last-child::after {align-self: flex-start;width: 50%;}#sk-container-id-1 div.sk-parallel-item:only-child::after {width: 0;}#sk-container-id-1 div.sk-dashed-wrapped {border: 1px dashed gray;margin: 0 0.4em 0.5em 0.4em;box-sizing: border-box;padding-bottom: 0.4em;background-color: white;}#sk-container-id-1 div.sk-label label {font-family: monospace;font-weight: bold;display: inline-block;line-height: 1.2em;}#sk-container-id-1 div.sk-label-container {text-align: center;}#sk-container-id-1 div.sk-container {/* jupyter's `normalize.less` sets `[hidden] { display: none; }` but bootstrap.min.css set `[hidden] { display: none !important; }` so we also need the `!important` here to be able to override the default hidden behavior on the sphinx rendered scikit-learn.org. See: https://github.com/scikit-learn/scikit-learn/issues/21755 */display: inline-block !important;position: relative;}#sk-container-id-1 div.sk-text-repr-fallback {display: none;}</style><div id=\"sk-container-id-1\" class=\"sk-top-container\"><div class=\"sk-text-repr-fallback\"><pre>LogisticRegression()</pre><b>In a Jupyter environment, please rerun this cell to show the HTML representation or trust the notebook. <br />On GitHub, the HTML representation is unable to render, please try loading this page with nbviewer.org.</b></div><div class=\"sk-container\" hidden><div class=\"sk-item\"><div class=\"sk-estimator sk-toggleable\"><input class=\"sk-toggleable__control sk-hidden--visually\" id=\"sk-estimator-id-1\" type=\"checkbox\" checked><label for=\"sk-estimator-id-1\" class=\"sk-toggleable__label sk-toggleable__label-arrow\">LogisticRegression</label><div class=\"sk-toggleable__content\"><pre>LogisticRegression()</pre></div></div></div></div></div>"
      ],
      "text/plain": [
       "LogisticRegression()"
      ]
     },
     "execution_count": 81,
     "metadata": {},
     "output_type": "execute_result"
    }
   ],
   "source": [
    "from sklearn.linear_model import LogisticRegression\n",
    "\n",
    "logreg = LogisticRegression()\n",
    "\n",
    "logreg.fit(X_train,y_train)"
   ]
  },
  {
   "cell_type": "code",
   "execution_count": 82,
   "id": "38a68591",
   "metadata": {},
   "outputs": [
    {
     "name": "stdout",
     "output_type": "stream",
     "text": [
      "Test F1 :  0.620488061566796\n"
     ]
    }
   ],
   "source": [
    "from sklearn.metrics import f1_score\n",
    "val_pred = logreg.predict(X_val)\n",
    "logreg_val_f1 = f1_score(y_val,val_pred)\n",
    "print(\"Test F1 : \",logreg_val_f1)"
   ]
  },
  {
   "cell_type": "code",
   "execution_count": 83,
   "id": "79ea1f22",
   "metadata": {},
   "outputs": [
    {
     "data": {
      "text/plain": [
       "<AxesSubplot:ylabel='Feature'>"
      ]
     },
     "execution_count": 83,
     "metadata": {},
     "output_type": "execute_result"
    },
    {
     "data": {
      "image/png": "[encoded data removed]",
      "text/plain": [
       "<Figure size 1000x600 with 1 Axes>"
      ]
     },
     "metadata": {},
     "output_type": "display_data"
    }
   ],
   "source": [
    "coefficients = logreg.coef_[0]\n",
    "\n",
    "feature_importance = pd.DataFrame({'Feature': X.columns, 'Importance': np.abs(coefficients)})\n",
    "feature_importance = feature_importance.sort_values('Importance', ascending=True)\n",
    "feature_importance.plot(x='Feature', y='Importance', kind='barh', figsize=(10, 6))"
   ]
  },
  {
   "cell_type": "markdown",
   "id": "74ced145",
   "metadata": {},
   "source": [
    "### top feature: source_type"
   ]
  },
  {
   "cell_type": "markdown",
   "id": "bc5ca5c2",
   "metadata": {},
   "source": [
    "## model with 1 feature"
   ]
  },
  {
   "cell_type": "code",
   "execution_count": 98,
   "id": "ec3cc6df",
   "metadata": {},
   "outputs": [],
   "source": [
    "cols = ['source_type']\n",
    "dat = X[cols]"
   ]
  },
  {
   "cell_type": "code",
   "execution_count": 99,
   "id": "069b6ee2",
   "metadata": {},
   "outputs": [],
   "source": [
    "X = dat\n",
    "y = final_data_new['target']"
   ]
  },
  {
   "cell_type": "code",
   "execution_count": 100,
   "id": "24e54b8c",
   "metadata": {},
   "outputs": [],
   "source": [
    "X_train,X_val,y_train,y_val = train_test_split(X,y,test_size = 0.25,random_state = 12345)"
   ]
  },
  {
   "cell_type": "code",
   "execution_count": 101,
   "id": "4f8ff7f8",
   "metadata": {},
   "outputs": [],
   "source": [
    "numeric_features = X_train.select_dtypes(exclude=['object']).columns.tolist()\n",
    "\n",
    "X_train_num = X_train[numeric_features]\n",
    "X_val_num = X_val[numeric_features]\n",
    "\n",
    "scaler = StandardScaler()\n",
    "X_train_num_scaled = scaler.fit_transform(X_train_num)\n",
    "X_val_num_scaled = scaler.transform(X_val_num)\n",
    "\n",
    "encoder = OrdinalEncoder(handle_unknown = 'use_encoded_value', unknown_value = 1) \n",
    "\n",
    "categorical_features = final_data_new.select_dtypes(include=['object']).columns.tolist()\n",
    "\n",
    "X_train_cat = encoder.fit_transform(X_train[categorical_features]).astype(int)\n",
    "X_val_cat = encoder.transform(X_val[categorical_features]).astype(int)\n",
    "\n",
    "X_train = np.hstack((X_train_num_scaled, X_train_cat))\n",
    "X_val = np.hstack((X_val_num_scaled, X_val_cat))"
   ]
  },
  {
   "cell_type": "code",
   "execution_count": 88,
   "id": "2c69de79",
   "metadata": {},
   "outputs": [
    {
     "name": "stdout",
     "output_type": "stream",
     "text": [
      "Test F1 :  0.6329936350039999\n"
     ]
    }
   ],
   "source": [
    "logreg = LogisticRegression()\n",
    "\n",
    "logreg.fit(X_train,y_train)\n",
    "\n",
    "test_pred = logreg.predict(X_val)\n",
    "logreg_test_f1 = f1_score(y_val,test_pred)\n",
    "print(\"Test F1 : \",logreg_test_f1)"
   ]
  },
  {
   "cell_type": "markdown",
   "id": "a35779e1",
   "metadata": {},
   "source": [
    "f1_score on 19 features: 0.62 \n",
    "\n",
    "f1_score on 1 feature: 0.63"
   ]
  },
  {
   "cell_type": "markdown",
   "id": "a1751825",
   "metadata": {},
   "source": [
    "### Decision tree"
   ]
  },
  {
   "cell_type": "code",
   "execution_count": 121,
   "id": "802c63e0",
   "metadata": {},
   "outputs": [
    {
     "name": "stdout",
     "output_type": "stream",
     "text": [
      "Test f1 :  0.6500348205229134\n"
     ]
    }
   ],
   "source": [
    "from sklearn.tree import DecisionTreeClassifier\n",
    "Dtree = DecisionTreeClassifier(max_depth=None,min_samples_leaf=1,min_samples_split=5)\n",
    "Dtree.fit(X_train,y_train)\n",
    "train_pred = Dtree.predict(X_train)\n",
    "val_pred = Dtree.predict(X_val)\n",
    "Dtree_val_f1 = f1_score(y_val,val_pred)\n",
    "print(\"Test f1 : \",Dtree_val_f1)"
   ]
  },
  {
   "cell_type": "code",
   "execution_count": 103,
   "id": "a1f30035",
   "metadata": {},
   "outputs": [
    {
     "name": "stdout",
     "output_type": "stream",
     "text": [
      "Test Accuracy :  0.6232919755840556\n"
     ]
    }
   ],
   "source": [
    "Dtree = DecisionTreeClassifier(max_depth=None,min_samples_leaf=1,min_samples_split=5)\n",
    "Dtree.fit(X_train,y_train)\n",
    "val_pred = Dtree.predict(X_val)\n",
    "Dtree_val_f1 = f1_score(y_val,val_pred)\n",
    "print(\"Test Accuracy : \",Dtree_val_f1)"
   ]
  },
  {
   "cell_type": "markdown",
   "id": "ddf73e76",
   "metadata": {},
   "source": [
    "f1_score on 19 features: 0.65\n",
    "\n",
    "f1_score on 1 feature: 0.62"
   ]
  },
  {
   "cell_type": "markdown",
   "id": "71a0cfea",
   "metadata": {},
   "source": [
    "###  Лучшая модель: DecisionTreeClassifier, обученная на 19 признаках"
   ]
  },
  {
   "cell_type": "code",
   "execution_count": 105,
   "id": "18137875",
   "metadata": {},
   "outputs": [],
   "source": [
    "test_members = data_test.merge(data_members, on = 'msno', how='left')"
   ]
  },
  {
   "cell_type": "code",
   "execution_count": 106,
   "id": "fd085718",
   "metadata": {},
   "outputs": [],
   "source": [
    "test_members_song = test_members.merge(data_songs, on = 'song_id', how='left')"
   ]
  },
  {
   "cell_type": "code",
   "execution_count": 107,
   "id": "2c3878ef",
   "metadata": {},
   "outputs": [],
   "source": [
    "final_data = test_members_song.merge(data_songs_extra, on = 'song_id', how='left')"
   ]
  },
  {
   "cell_type": "code",
   "execution_count": 109,
   "id": "68776be1",
   "metadata": {},
   "outputs": [],
   "source": [
    "final_dat = final_data.merge(data_sample_submission, on = 'id', how='left')"
   ]
  },
  {
   "cell_type": "code",
   "execution_count": 112,
   "id": "96ef60c1",
   "metadata": {},
   "outputs": [
    {
     "name": "stdout",
     "output_type": "stream",
     "text": [
      "<class 'pandas.core.frame.DataFrame'>\n",
      "Int64Index: 2556790 entries, 0 to 2556789\n",
      "Data columns (total 21 columns):\n",
      " #   Column                  Dtype         \n",
      "---  ------                  -----         \n",
      " 0   id                      int64         \n",
      " 1   msno                    object        \n",
      " 2   song_id                 object        \n",
      " 3   source_system_tab       object        \n",
      " 4   source_screen_name      object        \n",
      " 5   source_type             object        \n",
      " 6   city                    object        \n",
      " 7   bd                      float64       \n",
      " 8   gender                  object        \n",
      " 9   registered_via          object        \n",
      " 10  registration_init_time  datetime64[ns]\n",
      " 11  expiration_date         datetime64[ns]\n",
      " 12  song_length             float64       \n",
      " 13  genre_ids               object        \n",
      " 14  artist_name             object        \n",
      " 15  composer                object        \n",
      " 16  lyricist                object        \n",
      " 17  language                object        \n",
      " 18  name                    object        \n",
      " 19  isrc                    object        \n",
      " 20  target                  float64       \n",
      "dtypes: datetime64[ns](2), float64(3), int64(1), object(15)\n",
      "memory usage: 429.1+ MB\n"
     ]
    }
   ],
   "source": [
    "final_dat.info()"
   ]
  },
  {
   "cell_type": "markdown",
   "id": "f37d64ee",
   "metadata": {},
   "source": [
    "## тестовая выборка:"
   ]
  },
  {
   "cell_type": "code",
   "execution_count": 114,
   "id": "b3ebcd5f",
   "metadata": {},
   "outputs": [],
   "source": [
    "X_test = final_dat.drop(columns = ['target'])\n",
    "y_test = final_dat['target']"
   ]
  },
  {
   "cell_type": "code",
   "execution_count": 131,
   "id": "f4eacd49",
   "metadata": {},
   "outputs": [],
   "source": [
    "X_test = X_test.drop(columns = 'id')"
   ]
  },
  {
   "cell_type": "code",
   "execution_count": 142,
   "id": "f3eb56f2",
   "metadata": {},
   "outputs": [],
   "source": [
    "numeric_features = X_test.select_dtypes(exclude=['object']).columns.tolist()\n",
    "\n",
    "X_test_num = X_test[numeric_features]\n",
    "X_test_num_scaled = scaler.transform(X_test_num)\n",
    "\n",
    "categorical_features = final_data_new.select_dtypes(include=['object']).columns.tolist()\n",
    "\n",
    "X_test_cat = encoder.transform(X_test[categorical_features]).astype(int)\n",
    "X_test = np.hstack((X_test_num_scaled, X_test_cat))"
   ]
  },
  {
   "cell_type": "code",
   "execution_count": 143,
   "id": "80d98d9f",
   "metadata": {},
   "outputs": [
    {
     "name": "stderr",
     "output_type": "stream",
     "text": [
      "/Users/vladamalkina/opt/anaconda3/lib/python3.9/site-packages/sklearn/base.py:458: UserWarning: X has feature names, but DecisionTreeClassifier was fitted without feature names\n",
      "  warnings.warn(\n"
     ]
    },
    {
     "name": "stdout",
     "output_type": "stream",
     "text": [
      "0.6734702323201337\n"
     ]
    }
   ],
   "source": [
    "pred_test = Dtree.predict(X_test)\n",
    "print(f1_score(y_test, pred_test))"
   ]
  },
  {
   "cell_type": "markdown",
   "id": "80ca66b5",
   "metadata": {},
   "source": [
    "## f1_score на тестовой выборке 0.67"
   ]
  },
  {
   "cell_type": "code",
   "execution_count": null,
   "id": "39cbcceb",
   "metadata": {},
   "outputs": [],
   "source": []
  }
 ],
 "metadata": {
  "kernelspec": {
   "display_name": "Python 3 (ipykernel)",
   "language": "python",
   "name": "python3"
  },
  "language_info": {
   "codemirror_mode": {
    "name": "ipython",
    "version": 3
   },
   "file_extension": ".py",
   "mimetype": "text/x-python",
   "name": "python",
   "nbconvert_exporter": "python",
   "pygments_lexer": "ipython3",
   "version": "3.9.13"
  }
 },
 "nbformat": 4,
 "nbformat_minor": 5
}
